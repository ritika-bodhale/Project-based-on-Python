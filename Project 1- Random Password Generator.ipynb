{
 "cells": [
  {
   "cell_type": "markdown",
   "id": "61478ee3",
   "metadata": {},
   "source": [
    "## Random password generator\n"
   ]
  },
  {
   "cell_type": "code",
   "execution_count": 5,
   "id": "a2dc2c43",
   "metadata": {},
   "outputs": [],
   "source": [
    "import string\n",
    "import random\n"
   ]
  },
  {
   "cell_type": "code",
   "execution_count": 9,
   "id": "f6c005fa",
   "metadata": {},
   "outputs": [],
   "source": [
    "characters = list(string.ascii_letters + string.digits + \"!@#$%&+()\")"
   ]
  },
  {
   "cell_type": "code",
   "execution_count": 14,
   "id": "1783eb93",
   "metadata": {},
   "outputs": [
    {
     "name": "stdout",
     "output_type": "stream",
     "text": [
      "Do you want to generate password? yes/noyes\n",
      "Enter length of your password5\n",
      "QlMUp\n"
     ]
    }
   ],
   "source": [
    "def generate_password():\n",
    "    password_length = int(input(\"Enter length of your password\")) \n",
    "    \n",
    "    random.shuffle(characters)\n",
    "    \n",
    "    password=[]\n",
    "    \n",
    "    for x in range(password_length):\n",
    "        password.append(random.choice(characters))\n",
    "        \n",
    "    random.shuffle(password)\n",
    "    \n",
    "    password=\"\".join(password)\n",
    "    print(password)\n",
    "    \n",
    "option = input(\"Do you want to generate password? yes/no\")\n",
    "if option == \"yes\":\n",
    "    generate_password()\n",
    "elif option == \"no\":\n",
    "    print(\"program ended\")\n",
    "    quit()\n",
    "else:\n",
    "    print(\"Invalid input, please put yes/no\")"
   ]
  },
  {
   "cell_type": "code",
   "execution_count": null,
   "id": "1c2fe3f0",
   "metadata": {},
   "outputs": [],
   "source": []
  }
 ],
 "metadata": {
  "kernelspec": {
   "display_name": "Python 3 (ipykernel)",
   "language": "python",
   "name": "python3"
  },
  "language_info": {
   "codemirror_mode": {
    "name": "ipython",
    "version": 3
   },
   "file_extension": ".py",
   "mimetype": "text/x-python",
   "name": "python",
   "nbconvert_exporter": "python",
   "pygments_lexer": "ipython3",
   "version": "3.9.12"
  }
 },
 "nbformat": 4,
 "nbformat_minor": 5
}
