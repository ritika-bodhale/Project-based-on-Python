{
 "cells": [
  {
   "cell_type": "markdown",
   "id": "d56e3baf",
   "metadata": {},
   "source": [
    "## Rock Paper Scissors"
   ]
  },
  {
   "cell_type": "code",
   "execution_count": 2,
   "id": "4bbd7e18",
   "metadata": {},
   "outputs": [],
   "source": [
    "import random"
   ]
  },
  {
   "cell_type": "code",
   "execution_count": 3,
   "id": "4ce7a95e",
   "metadata": {},
   "outputs": [
    {
     "name": "stdout",
     "output_type": "stream",
     "text": [
      "Choose rock,paper,scissor or exit: rock\n",
      "your input is rock\n",
      "computer input is paper\n",
      "Computer wins!\n",
      "Choose rock,paper,scissor or exit: paper\n",
      "your input is paper\n",
      "computer input is paper\n",
      "It's a tie!\n",
      "Choose rock,paper,scissor or exit: exit\n",
      "Game ended\n",
      "Your score:  0  Computer score: 1\n",
      "Invalid input\n"
     ]
    }
   ],
   "source": [
    "exit =False\n",
    "user_points = 0\n",
    "computer_points = 0\n",
    "\n",
    "while exit==False:\n",
    "    options = [\"rock\", \"paper\", \"scissors\"]\n",
    "    user_input = input(\"Choose rock,paper,scissor or exit: \")\n",
    "    computer_input = random.choice(options)\n",
    "    \n",
    "    if user_input == \"exit\":\n",
    "        print(\"Game ended\")\n",
    "        print(\"Your score: \",user_points,\" Computer score:\",computer_points)\n",
    "        exit=True\n",
    "        \n",
    "    if user_input == \"rock\":\n",
    "        if computer_input ==\"rock\":\n",
    "            print(\"your input is rock\")\n",
    "            print(\"computer input is rock\")\n",
    "            print(\"It's a tie!\")\n",
    "            \n",
    "        elif computer_input ==\"paper\":\n",
    "            print(\"your input is rock\")\n",
    "            print(\"computer input is paper\")\n",
    "            print(\"Computer wins!\")\n",
    "            computer_points +=1\n",
    "            \n",
    "        elif computer_input ==\"scissors\":\n",
    "            print(\"your input is rock\")\n",
    "            print(\"computer input is scissors\")\n",
    "            print(\"you win!\")\n",
    "            user_points +=1\n",
    "    \n",
    "    elif user_input == \"paper\":\n",
    "        if computer_input ==\"rock\":\n",
    "            print(\"your input is paper\")\n",
    "            print(\"computer input is rock\")\n",
    "            print(\"you win!\")\n",
    "            user_points +=1\n",
    "            \n",
    "        elif computer_input ==\"paper\":\n",
    "            print(\"your input is paper\")\n",
    "            print(\"computer input is paper\")\n",
    "            print(\"It's a tie!\")\n",
    "            \n",
    "            \n",
    "        elif computer_input ==\"scissors\":\n",
    "            print(\"your input is paper\")\n",
    "            print(\"computer input is scissors\")\n",
    "            print(\"computer win!\")\n",
    "            computer_points +=1\n",
    "    \n",
    "    elif user_input == \"scissor\":\n",
    "        if computer_input ==\"rock\":\n",
    "            print(\"your input is scissor\")\n",
    "            print(\"computer input is rock\")\n",
    "            print(\"computer win!\")\n",
    "            computer_points +=1\n",
    "            \n",
    "        elif computer_input ==\"paper\":\n",
    "            print(\"your input is scissor\")\n",
    "            print(\"computer input is paper\")\n",
    "            print(\"you win!\")\n",
    "            user_points +=1\n",
    "            \n",
    "            \n",
    "        elif computer_input ==\"scissors\":\n",
    "            print(\"your input is scissors\")\n",
    "            print(\"computer input is scissors\")\n",
    "            print(\"It's a tie!\")\n",
    "            \n",
    "    else:\n",
    "        print(\"Invalid input\")\n",
    "            \n",
    "        \n",
    "             \n",
    "            "
   ]
  }
 ],
 "metadata": {
  "kernelspec": {
   "display_name": "Python 3 (ipykernel)",
   "language": "python",
   "name": "python3"
  },
  "language_info": {
   "codemirror_mode": {
    "name": "ipython",
    "version": 3
   },
   "file_extension": ".py",
   "mimetype": "text/x-python",
   "name": "python",
   "nbconvert_exporter": "python",
   "pygments_lexer": "ipython3",
   "version": "3.9.12"
  }
 },
 "nbformat": 4,
 "nbformat_minor": 5
}
